{
 "cells": [
  {
   "cell_type": "markdown",
   "id": "ab886f96-1b15-49e6-a57b-a84171911d2e",
   "metadata": {},
   "source": [
    "# Data Science Tools and Ecosystem"
   ]
  },
  {
   "cell_type": "markdown",
   "id": "31fe64c3-e6e8-43ee-a77c-7dbc8080afbf",
   "metadata": {},
   "source": [
    "In this notebook, Data Science Tools and Ecosystem are summarized."
   ]
  },
  {
   "cell_type": "markdown",
   "id": "6cac381b-c940-4fa0-93b5-f008dc2e908b",
   "metadata": {},
   "source": [
    "**Objectives:**\n",
    "\n",
    "- List popular languages for Data Science\n",
    "- List common used libraries for Data Science\n",
    "- Table of Data Science tools"
   ]
  },
  {
   "cell_type": "markdown",
   "id": "bed9a29c-04f9-494b-b5da-9908918af724",
   "metadata": {},
   "source": [
    "## Author\n",
    "\n",
    "Marcos Jiménez Juliana"
   ]
  },
  {
   "cell_type": "markdown",
   "id": "b3d515dd-9d6b-4fc1-9550-dd8aa7216b00",
   "metadata": {},
   "source": [
    "Some of the popular languages that Data Scientists use are:\n",
    "\n",
    "1. Python\n",
    "2. SQL\n",
    "3. R"
   ]
  },
  {
   "cell_type": "markdown",
   "id": "61e02660-999a-45b3-89e2-5bd5011f6d43",
   "metadata": {},
   "source": [
    "Some of the commonly used libraries used by Data Scientists include:\n",
    "\n",
    "1. Pandas\n",
    "2. Numpy\n",
    "3. Matplotlib\n",
    "4. ggplot\n"
   ]
  },
  {
   "cell_type": "markdown",
   "id": "7955dab7-5a1c-4944-a57e-c7f27de0554a",
   "metadata": {},
   "source": [
    "| Data Science Tools  |\n",
    "| -------- | \n",
    "| GitHub  | \n",
    "| Hadoop | \n",
    "| Jupyter lab   | "
   ]
  },
  {
   "cell_type": "markdown",
   "id": "4bc6f587-35e2-48e9-b810-f0ad73faff9b",
   "metadata": {},
   "source": [
    "### Below are a few examples of evaluating arithmetic expressions in Python"
   ]
  },
  {
   "cell_type": "code",
   "execution_count": 1,
   "id": "084e63a1-72bc-4610-93a5-519209f4021a",
   "metadata": {},
   "outputs": [
    {
     "data": {
      "text/plain": [
       "17"
      ]
     },
     "execution_count": 1,
     "metadata": {},
     "output_type": "execute_result"
    }
   ],
   "source": [
    "(3*4)+5  #This a simple arithmetic expression to mutiply then add integers"
   ]
  },
  {
   "cell_type": "code",
   "execution_count": 2,
   "id": "af6d76bd-5ad5-4777-8c86-d5a34937be1d",
   "metadata": {},
   "outputs": [
    {
     "data": {
      "text/plain": [
       "3.3333333333333335"
      ]
     },
     "execution_count": 2,
     "metadata": {},
     "output_type": "execute_result"
    }
   ],
   "source": [
    "200/60 # This will convert 200 minutes to hours by diving by 60"
   ]
  },
  {
   "cell_type": "code",
   "execution_count": null,
   "id": "98fc46c2-7f59-464b-9c44-054d5ea94c6e",
   "metadata": {},
   "outputs": [],
   "source": []
  }
 ],
 "metadata": {
  "kernelspec": {
   "display_name": "Python 3 (ipykernel)",
   "language": "python",
   "name": "python3"
  },
  "language_info": {
   "codemirror_mode": {
    "name": "ipython",
    "version": 3
   },
   "file_extension": ".py",
   "mimetype": "text/x-python",
   "name": "python",
   "nbconvert_exporter": "python",
   "pygments_lexer": "ipython3",
   "version": "3.12.3"
  }
 },
 "nbformat": 4,
 "nbformat_minor": 5
}
